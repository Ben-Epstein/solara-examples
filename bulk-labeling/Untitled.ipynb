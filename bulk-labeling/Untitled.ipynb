{
 "cells": [
  {
   "cell_type": "code",
   "execution_count": 1,
   "id": "58ab3d1f",
   "metadata": {},
   "outputs": [
    {
     "name": "stdout",
     "output_type": "stream",
     "text": [
      "1.10.0\n",
      "5.14.1\n"
     ]
    }
   ],
   "source": [
    "import plotly.express as px\n",
    "import plotly\n",
    "import solara as sl\n",
    "\n",
    "print(sl.__version__)\n",
    "print(plotly.__version__)"
   ]
  },
  {
   "cell_type": "code",
   "execution_count": null,
   "id": "514f0982",
   "metadata": {},
   "outputs": [
    {
     "name": "stdout",
     "output_type": "stream",
     "text": [
      "Collecting plotly==5.14.0\n",
      "  Downloading plotly-5.14.0-py2.py3-none-any.whl (15.3 MB)\n",
      "\u001b[2K     \u001b[90m━━━━━━━━━━━━━━━━━━━━━━━━━━━━━━━━━━━━━━━━\u001b[0m \u001b[32m15.3/15.3 MB\u001b[0m \u001b[31m15.3 MB/s\u001b[0m eta \u001b[36m0:00:00\u001b[0m00:01\u001b[0m00:01\u001b[0m\n",
      "\u001b[?25hRequirement already satisfied: tenacity>=6.2.0 in ./.venv/lib/python3.9/site-packages (from plotly==5.14.0) (8.2.2)\n",
      "Requirement already satisfied: packaging in ./.venv/lib/python3.9/site-packages (from plotly==5.14.0) (23.0)\n",
      "Installing collected packages: plotly\n",
      "  Attempting uninstall: plotly\n",
      "    Found existing installation: plotly 5.14.1\n",
      "    Uninstalling plotly-5.14.1:\n",
      "      Successfully uninstalled plotly-5.14.1\n"
     ]
    }
   ],
   "source": [
    "!pip install --upgrade plotly==5.14.0"
   ]
  },
  {
   "cell_type": "code",
   "execution_count": 3,
   "id": "7e688d91",
   "metadata": {},
   "outputs": [
    {
     "data": {
      "application/vnd.jupyter.widget-view+json": {
       "model_id": "e15c80af45084b86adafc8aaf5776227",
       "version_major": 2,
       "version_minor": 0
      },
      "text/html": [
       "Cannot show widget. You probably want to rerun the code cell above (<i>Click in the code cell, and press Shift+Enter <kbd>⇧</kbd>+<kbd>↩</kbd></i>)."
      ],
      "text/plain": [
       "Cannot show ipywidgets in text"
      ]
     },
     "metadata": {},
     "output_type": "display_data"
    }
   ],
   "source": [
    "import pandas as pd\n",
    "import solara as sl\n",
    "import plotly.express as px\n",
    "\n",
    "@sl.component\n",
    "def Page():\n",
    "    df = pd.read_csv(\"bulk_labeling/conv_intent.csv\")\n",
    "    df[\"text_length\"] = df.text.str.len()\n",
    "    df[\"id\"] = list(range(len(df)))\n",
    "    df[\"hovertext\"] = df.text.str.wrap(30).str.replace(\"\\n\", \"<br>\")\n",
    "    fig = px.scatter(\n",
    "        df,\n",
    "        x=\"x\",\n",
    "        y=\"y\",\n",
    "        custom_data=[df[\"id\"]],\n",
    "        hover_data=[\"hovertext\"],\n",
    "    )\n",
    "    fig.update_layout(showlegend=False)\n",
    "    fig.update_xaxes(visible=False)\n",
    "    fig.update_yaxes(visible=False)\n",
    "    fig.update_traces(marker_size=2)\n",
    "    \n",
    "    sl.FigurePlotly(fig)\n",
    "    \n",
    "Page()"
   ]
  },
  {
   "cell_type": "code",
   "execution_count": 18,
   "id": "d80b0e4a",
   "metadata": {
    "scrolled": true
   },
   "outputs": [
    {
     "name": "stderr",
     "output_type": "stream",
     "text": [
      "Component react.component(solara.components.file_download.FileDownload) raised exception TypeError(\"FileDownload() got an unexpected keyword argument 'on_download'\")\n",
      "Traceback (most recent call last):\n",
      "  File \"/Users/benepstein/Documents/GitHub/solara-examples/bulk-labeling/.venv/lib/python3.9/site-packages/reacton/core.py\", line 1627, in _render\n",
      "    root_element = el.component.f(*el.args, **el.kwargs)\n",
      "TypeError: FileDownload() got an unexpected keyword argument 'on_download'\n"
     ]
    },
    {
     "data": {
      "application/vnd.jupyter.widget-view+json": {
       "model_id": "37c4dce2f28b4af9938107a593b175e5",
       "version_major": 2,
       "version_minor": 0
      },
      "text/html": [
       "Cannot show widget. You probably want to rerun the code cell above (<i>Click in the code cell, and press Shift+Enter <kbd>⇧</kbd>+<kbd>↩</kbd></i>)."
      ],
      "text/plain": [
       "Cannot show ipywidgets in text"
      ]
     },
     "metadata": {},
     "output_type": "display_data"
    }
   ],
   "source": [
    "import io\n",
    "import solara\n",
    "import pandas as pd\n",
    "\n",
    "\n",
    "df = pd.read_csv(\"bulk_labeling/conv_intent.csv\")\n",
    "data = io.BytesIO()\n",
    "df.to_csv(data)\n",
    "\n",
    "BUTTON_KWARGS = dict(outlined=True)\n",
    "\n",
    "@solara.component\n",
    "def Page():\n",
    "    solara.FileDownload(data, filename=\"solara-download.csv\", label=\"Download file\", on_download=None)\n",
    "    \n",
    "Page()"
   ]
  },
  {
   "cell_type": "code",
   "execution_count": 22,
   "id": "e43ca77c",
   "metadata": {},
   "outputs": [],
   "source": [
    "from solara.lab import Reactive\n",
    "import pandas as pd\n",
    "\n",
    "class State:\n",
    "    df = Reactive[pd.DataFrame](pd.DataFrame({}))"
   ]
  },
  {
   "cell_type": "code",
   "execution_count": 23,
   "id": "ea3d56f3",
   "metadata": {},
   "outputs": [],
   "source": [
    "State.df.set(pd.read_csv(\"bulk_labeling/conv_intent.csv\"))"
   ]
  },
  {
   "cell_type": "code",
   "execution_count": 26,
   "id": "9100ca3b",
   "metadata": {},
   "outputs": [
    {
     "data": {
      "text/html": [
       "<div>\n",
       "<style scoped>\n",
       "    .dataframe tbody tr th:only-of-type {\n",
       "        vertical-align: middle;\n",
       "    }\n",
       "\n",
       "    .dataframe tbody tr th {\n",
       "        vertical-align: top;\n",
       "    }\n",
       "\n",
       "    .dataframe thead th {\n",
       "        text-align: right;\n",
       "    }\n",
       "</style>\n",
       "<table border=\"1\" class=\"dataframe\">\n",
       "  <thead>\n",
       "    <tr style=\"text-align: right;\">\n",
       "      <th></th>\n",
       "      <th>text</th>\n",
       "      <th>text_length</th>\n",
       "      <th>x</th>\n",
       "      <th>y</th>\n",
       "    </tr>\n",
       "  </thead>\n",
       "  <tbody>\n",
       "    <tr>\n",
       "      <th>135</th>\n",
       "      <td>Play Water Under The Bridge by Hariprasad Chau...</td>\n",
       "      <td>52</td>\n",
       "      <td>4.167583</td>\n",
       "      <td>2.853800</td>\n",
       "    </tr>\n",
       "    <tr>\n",
       "      <th>354</th>\n",
       "      <td>play Vanlose Stairway by Janove Ottesen</td>\n",
       "      <td>39</td>\n",
       "      <td>2.637289</td>\n",
       "      <td>2.443605</td>\n",
       "    </tr>\n",
       "    <tr>\n",
       "      <th>373</th>\n",
       "      <td>Play me Gil Parris's A Cup Of Coffee, A Sandwi...</td>\n",
       "      <td>56</td>\n",
       "      <td>4.262372</td>\n",
       "      <td>2.086915</td>\n",
       "    </tr>\n",
       "    <tr>\n",
       "      <th>578</th>\n",
       "      <td>I want to hear Box Of Rain by Skeets Mcdonald</td>\n",
       "      <td>45</td>\n",
       "      <td>7.311150</td>\n",
       "      <td>-3.261311</td>\n",
       "    </tr>\n",
       "    <tr>\n",
       "      <th>719</th>\n",
       "      <td>play I Could Write A Book</td>\n",
       "      <td>25</td>\n",
       "      <td>1.983942</td>\n",
       "      <td>4.373630</td>\n",
       "    </tr>\n",
       "    <tr>\n",
       "      <th>...</th>\n",
       "      <td>...</td>\n",
       "      <td>...</td>\n",
       "      <td>...</td>\n",
       "      <td>...</td>\n",
       "    </tr>\n",
       "    <tr>\n",
       "      <th>13769</th>\n",
       "      <td>Give After Having Spent a Night Among Horses 0...</td>\n",
       "      <td>56</td>\n",
       "      <td>1.062308</td>\n",
       "      <td>5.083417</td>\n",
       "    </tr>\n",
       "    <tr>\n",
       "      <th>13770</th>\n",
       "      <td>the current rating of 6 out of two for a textbook</td>\n",
       "      <td>49</td>\n",
       "      <td>1.949388</td>\n",
       "      <td>4.977383</td>\n",
       "    </tr>\n",
       "    <tr>\n",
       "      <th>13773</th>\n",
       "      <td>Rate 12: The Elements of Great Managing a 0</td>\n",
       "      <td>43</td>\n",
       "      <td>1.365064</td>\n",
       "      <td>5.642055</td>\n",
       "    </tr>\n",
       "    <tr>\n",
       "      <th>13775</th>\n",
       "      <td>give 5 points to The White Hotel</td>\n",
       "      <td>32</td>\n",
       "      <td>5.686408</td>\n",
       "      <td>2.484900</td>\n",
       "    </tr>\n",
       "    <tr>\n",
       "      <th>13782</th>\n",
       "      <td>give 1 out of 6 points to Revolution World</td>\n",
       "      <td>42</td>\n",
       "      <td>1.354092</td>\n",
       "      <td>6.397282</td>\n",
       "    </tr>\n",
       "  </tbody>\n",
       "</table>\n",
       "<p>5291 rows × 4 columns</p>\n",
       "</div>"
      ],
      "text/plain": [
       "                                                    text  text_length   \n",
       "135    Play Water Under The Bridge by Hariprasad Chau...           52  \\\n",
       "354              play Vanlose Stairway by Janove Ottesen           39   \n",
       "373    Play me Gil Parris's A Cup Of Coffee, A Sandwi...           56   \n",
       "578        I want to hear Box Of Rain by Skeets Mcdonald           45   \n",
       "719                            play I Could Write A Book           25   \n",
       "...                                                  ...          ...   \n",
       "13769  Give After Having Spent a Night Among Horses 0...           56   \n",
       "13770  the current rating of 6 out of two for a textbook           49   \n",
       "13773        Rate 12: The Elements of Great Managing a 0           43   \n",
       "13775                   give 5 points to The White Hotel           32   \n",
       "13782         give 1 out of 6 points to Revolution World           42   \n",
       "\n",
       "              x         y  \n",
       "135    4.167583  2.853800  \n",
       "354    2.637289  2.443605  \n",
       "373    4.262372  2.086915  \n",
       "578    7.311150 -3.261311  \n",
       "719    1.983942  4.373630  \n",
       "...         ...       ...  \n",
       "13769  1.062308  5.083417  \n",
       "13770  1.949388  4.977383  \n",
       "13773  1.365064  5.642055  \n",
       "13775  5.686408  2.484900  \n",
       "13782  1.354092  6.397282  \n",
       "\n",
       "[5291 rows x 4 columns]"
      ]
     },
     "execution_count": 26,
     "metadata": {},
     "output_type": "execute_result"
    }
   ],
   "source": [
    "newdf = State.df.value.copy()\n",
    "newdf = newdf[newdf[\"x\"]>1]\n",
    "newdf"
   ]
  },
  {
   "cell_type": "code",
   "execution_count": 27,
   "id": "2b8ebd1c",
   "metadata": {},
   "outputs": [],
   "source": [
    "State.df.set(newdf)"
   ]
  },
  {
   "cell_type": "code",
   "execution_count": 28,
   "id": "117ac1c7",
   "metadata": {},
   "outputs": [
    {
     "data": {
      "text/html": [
       "<div>\n",
       "<style scoped>\n",
       "    .dataframe tbody tr th:only-of-type {\n",
       "        vertical-align: middle;\n",
       "    }\n",
       "\n",
       "    .dataframe tbody tr th {\n",
       "        vertical-align: top;\n",
       "    }\n",
       "\n",
       "    .dataframe thead th {\n",
       "        text-align: right;\n",
       "    }\n",
       "</style>\n",
       "<table border=\"1\" class=\"dataframe\">\n",
       "  <thead>\n",
       "    <tr style=\"text-align: right;\">\n",
       "      <th></th>\n",
       "      <th>text</th>\n",
       "      <th>text_length</th>\n",
       "      <th>x</th>\n",
       "      <th>y</th>\n",
       "    </tr>\n",
       "  </thead>\n",
       "  <tbody>\n",
       "    <tr>\n",
       "      <th>135</th>\n",
       "      <td>Play Water Under The Bridge by Hariprasad Chau...</td>\n",
       "      <td>52</td>\n",
       "      <td>4.167583</td>\n",
       "      <td>2.853800</td>\n",
       "    </tr>\n",
       "    <tr>\n",
       "      <th>354</th>\n",
       "      <td>play Vanlose Stairway by Janove Ottesen</td>\n",
       "      <td>39</td>\n",
       "      <td>2.637289</td>\n",
       "      <td>2.443605</td>\n",
       "    </tr>\n",
       "    <tr>\n",
       "      <th>373</th>\n",
       "      <td>Play me Gil Parris's A Cup Of Coffee, A Sandwi...</td>\n",
       "      <td>56</td>\n",
       "      <td>4.262372</td>\n",
       "      <td>2.086915</td>\n",
       "    </tr>\n",
       "    <tr>\n",
       "      <th>578</th>\n",
       "      <td>I want to hear Box Of Rain by Skeets Mcdonald</td>\n",
       "      <td>45</td>\n",
       "      <td>7.311150</td>\n",
       "      <td>-3.261311</td>\n",
       "    </tr>\n",
       "    <tr>\n",
       "      <th>719</th>\n",
       "      <td>play I Could Write A Book</td>\n",
       "      <td>25</td>\n",
       "      <td>1.983942</td>\n",
       "      <td>4.373630</td>\n",
       "    </tr>\n",
       "    <tr>\n",
       "      <th>...</th>\n",
       "      <td>...</td>\n",
       "      <td>...</td>\n",
       "      <td>...</td>\n",
       "      <td>...</td>\n",
       "    </tr>\n",
       "    <tr>\n",
       "      <th>13769</th>\n",
       "      <td>Give After Having Spent a Night Among Horses 0...</td>\n",
       "      <td>56</td>\n",
       "      <td>1.062308</td>\n",
       "      <td>5.083417</td>\n",
       "    </tr>\n",
       "    <tr>\n",
       "      <th>13770</th>\n",
       "      <td>the current rating of 6 out of two for a textbook</td>\n",
       "      <td>49</td>\n",
       "      <td>1.949388</td>\n",
       "      <td>4.977383</td>\n",
       "    </tr>\n",
       "    <tr>\n",
       "      <th>13773</th>\n",
       "      <td>Rate 12: The Elements of Great Managing a 0</td>\n",
       "      <td>43</td>\n",
       "      <td>1.365064</td>\n",
       "      <td>5.642055</td>\n",
       "    </tr>\n",
       "    <tr>\n",
       "      <th>13775</th>\n",
       "      <td>give 5 points to The White Hotel</td>\n",
       "      <td>32</td>\n",
       "      <td>5.686408</td>\n",
       "      <td>2.484900</td>\n",
       "    </tr>\n",
       "    <tr>\n",
       "      <th>13782</th>\n",
       "      <td>give 1 out of 6 points to Revolution World</td>\n",
       "      <td>42</td>\n",
       "      <td>1.354092</td>\n",
       "      <td>6.397282</td>\n",
       "    </tr>\n",
       "  </tbody>\n",
       "</table>\n",
       "<p>5291 rows × 4 columns</p>\n",
       "</div>"
      ],
      "text/plain": [
       "                                                    text  text_length   \n",
       "135    Play Water Under The Bridge by Hariprasad Chau...           52  \\\n",
       "354              play Vanlose Stairway by Janove Ottesen           39   \n",
       "373    Play me Gil Parris's A Cup Of Coffee, A Sandwi...           56   \n",
       "578        I want to hear Box Of Rain by Skeets Mcdonald           45   \n",
       "719                            play I Could Write A Book           25   \n",
       "...                                                  ...          ...   \n",
       "13769  Give After Having Spent a Night Among Horses 0...           56   \n",
       "13770  the current rating of 6 out of two for a textbook           49   \n",
       "13773        Rate 12: The Elements of Great Managing a 0           43   \n",
       "13775                   give 5 points to The White Hotel           32   \n",
       "13782         give 1 out of 6 points to Revolution World           42   \n",
       "\n",
       "              x         y  \n",
       "135    4.167583  2.853800  \n",
       "354    2.637289  2.443605  \n",
       "373    4.262372  2.086915  \n",
       "578    7.311150 -3.261311  \n",
       "719    1.983942  4.373630  \n",
       "...         ...       ...  \n",
       "13769  1.062308  5.083417  \n",
       "13770  1.949388  4.977383  \n",
       "13773  1.365064  5.642055  \n",
       "13775  5.686408  2.484900  \n",
       "13782  1.354092  6.397282  \n",
       "\n",
       "[5291 rows x 4 columns]"
      ]
     },
     "execution_count": 28,
     "metadata": {},
     "output_type": "execute_result"
    }
   ],
   "source": [
    "State.df.value"
   ]
  },
  {
   "cell_type": "code",
   "execution_count": null,
   "id": "bc883a37",
   "metadata": {},
   "outputs": [],
   "source": []
  }
 ],
 "metadata": {
  "kernelspec": {
   "display_name": "Python 3 (ipykernel)",
   "language": "python",
   "name": "python3"
  },
  "language_info": {
   "codemirror_mode": {
    "name": "ipython",
    "version": 3
   },
   "file_extension": ".py",
   "mimetype": "text/x-python",
   "name": "python",
   "nbconvert_exporter": "python",
   "pygments_lexer": "ipython3",
   "version": "3.9.6"
  }
 },
 "nbformat": 4,
 "nbformat_minor": 5
}
